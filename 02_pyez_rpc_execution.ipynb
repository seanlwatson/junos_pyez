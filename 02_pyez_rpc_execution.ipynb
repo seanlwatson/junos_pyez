{
 "cells": [
  {
   "cell_type": "markdown",
   "metadata": {},
   "source": [
    "## Junos PyEZ RPC Execution\n",
    "Junos uses XML natively (Extensible Markup Language) modelling. While the CLI is optimized for humans, XML is not optimized for humans as it has too much markup. However, XML can be manipulated by programs. When a human interacts with the Junos CLI, it passes the equivalent XML RPC to MGD (management daemon). The MGD returns the data response to the CLI in the form of an XML document and CLI converts into a human readable format for display.\n",
    "\n",
    "Every CLI command has an equivalent XML RPC associated with it. To display the output of a Junos CLI command in XML format, append “| display xml” to the CLI command. Likewise appending “| display xml rpc” option provides the RPC to get an XML encoded response. \n",
    "\n",
    "    seanw@vsrx1> show version | display xml rpc \n",
    "    <rpc-reply xmlns:junos=\"http://xml.juniper.net/junos/15.1X49/junos\">\n",
    "        <rpc>\n",
    "            <get-software-information>\n",
    "            </get-software-information>\n",
    "        </rpc>\n",
    "        <cli>\n",
    "            <banner></banner>\n",
    "        </cli>\n",
    "    </rpc-reply>\n",
    "    \n",
    "    seanw@vsrx1> show version | display xml        \n",
    "    <rpc-reply xmlns:junos=\"http://xml.juniper.net/junos/15.1X49/junos\">\n",
    "        <software-information>\n",
    "            <host-name>vsrx1</host-name>\n",
    "            <product-model>vsrx</product-model>\n",
    "            <product-name>vsrx</product-name>\n",
    "            <junos-version>15.1X49-D75.5</junos-version>\n",
    "            <package-information>\n",
    "                <name>junos</name>\n",
    "                <comment>JUNOS Software Release [15.1X49-D75.5]</comment>\n",
    "            </package-information>\n",
    "        </software-information>\n",
    "        <cli>\n",
    "            <banner></banner>\n",
    "        </cli>\n",
    "    </rpc-reply>    "
   ]
  },
  {
   "cell_type": "code",
   "execution_count": 1,
   "metadata": {
    "collapsed": false
   },
   "outputs": [
    {
     "data": {
      "text/plain": [
       "Device(vsrx1)"
      ]
     },
     "execution_count": 1,
     "metadata": {},
     "output_type": "execute_result"
    }
   ],
   "source": [
    "from jnpr.junos import Device\n",
    "\n",
    "vsrx1 = Device(host='vsrx1')\n",
    "vsrx1.open()"
   ]
  },
  {
   "cell_type": "markdown",
   "metadata": {},
   "source": [
    "PyEZ library does not contain a method for each Junos XML RPC and would require PyEZ to be tighly coupled to the Junos platform and version. With PyEZ there is no tight coupling and uses *metaprogramming* where each RPC gets the underscores replaced with hyphens and then wrapped in proper XML elements and sent over the NETCONF session to the device. PyEZ does not require formatting the RPC as XML, and it does not require directly interacting with NETCONF. The device instance’s *rpc* property can be used to execute an RPC. Each Junos XML RPC can be invoked as a method of the *rpc* property."
   ]
  },
  {
   "cell_type": "code",
   "execution_count": 2,
   "metadata": {
    "collapsed": false
   },
   "outputs": [
    {
     "name": "stdout",
     "output_type": "stream",
     "text": [
      "<software-information>\n",
      "<host-name>vsrx1</host-name>\n",
      "<product-model>vsrx</product-model>\n",
      "<product-name>vsrx</product-name>\n",
      "<junos-version>15.1X49-D75.5</junos-version>\n",
      "<package-information>\n",
      "<name>junos</name>\n",
      "<comment>JUNOS Software Release [15.1X49-D75.5]</comment>\n",
      "</package-information>\n",
      "</software-information>\n",
      "\n"
     ]
    }
   ],
   "source": [
    "from lxml import etree\n",
    "\n",
    "junos_version = vsrx1.rpc.get_software_information()\n",
    "print etree.tostring(junos_version)"
   ]
  },
  {
   "cell_type": "markdown",
   "metadata": {},
   "source": [
    "The **display_xml_rpc()** method provides the ability to ‘automatically’ find the appropriate RPC function to execute."
   ]
  },
  {
   "cell_type": "code",
   "execution_count": 3,
   "metadata": {
    "collapsed": false
   },
   "outputs": [
    {
     "name": "stdout",
     "output_type": "stream",
     "text": [
      "<get-software-information>\n",
      "</get-software-information>\n",
      "\n"
     ]
    }
   ],
   "source": [
    "show_version_rpc = vsrx1.display_xml_rpc('show version', format='xml')\n",
    "print etree.tostring(show_version_rpc)"
   ]
  },
  {
   "cell_type": "markdown",
   "metadata": {},
   "source": [
    "It is also possible to pass CLI show command as an argument of the **cli()** method of the *rpc* property."
   ]
  },
  {
   "cell_type": "code",
   "execution_count": 4,
   "metadata": {
    "collapsed": false
   },
   "outputs": [
    {
     "name": "stdout",
     "output_type": "stream",
     "text": [
      "<output>\n",
      "Hostname: vsrx1\n",
      "Model: vsrx\n",
      "Junos: 15.1X49-D75.5\n",
      "JUNOS Software Release [15.1X49-D75.5]\n",
      "</output>\n",
      "\n"
     ]
    }
   ],
   "source": [
    "junos_version_txt = vsrx1.rpc.cli('show version', format='text')\n",
    "print etree.tostring(junos_version_txt)"
   ]
  },
  {
   "cell_type": "markdown",
   "metadata": {},
   "source": [
    "### RPC Parameters\n",
    "The PyEZ RPC mechanism allows the user to specify parameters without having to format them in XML. The parameters are simply specified as keyword arguments to the RPC methods.\n",
    "\n",
    "    seanw@vsrx1> show route protocol bgp 2001:250:204::/48 active-path | display xml rpc \n",
    "    <rpc-reply xmlns:junos=\"http://xml.juniper.net/junos/15.1X49/junos\">\n",
    "        <rpc>\n",
    "            <get-route-information>\n",
    "                <destination>2001:250:204::/48</destination>\n",
    "                <active-path/>\n",
    "                <protocol>bgp</protocol>\n",
    "            </get-route-information>\n",
    "        </rpc>\n",
    "        <cli>\n",
    "            <banner></banner>\n",
    "        </cli>\n",
    "    </rpc-reply>"
   ]
  },
  {
   "cell_type": "code",
   "execution_count": 5,
   "metadata": {
    "collapsed": true
   },
   "outputs": [],
   "source": [
    "bgp_route = vsrx1.rpc.get_route_information(protocol='bgp',\n",
    "                                            destination='2001:250:204::/48',\n",
    "                                            active_path=True)"
   ]
  },
  {
   "cell_type": "markdown",
   "metadata": {},
   "source": [
    "### RPC Timeout\n",
    "An RPC will timeout in 30 seconds by default if a complete response is not recieved (i.e. installing a Junos software package with the request-package-add RPC). You can set the device timeout which affects all RPCs."
   ]
  },
  {
   "cell_type": "code",
   "execution_count": 6,
   "metadata": {
    "collapsed": true
   },
   "outputs": [],
   "source": [
    "vsrx1.timeout = 5"
   ]
  },
  {
   "cell_type": "code",
   "execution_count": 7,
   "metadata": {
    "collapsed": false
   },
   "outputs": [],
   "source": [
    "bgp_routes = vsrx1.rpc.get_route_information(dev_timeout=60,\n",
    "                                            protocol='bgp')"
   ]
  },
  {
   "cell_type": "markdown",
   "metadata": {},
   "source": [
    "Creating an algorithm for attempting to re-open a NETCONF connection can be done to re-execute a failed RPC a limited number of times. Importing the PyEZ exception module is required before specific PyEZ exceptions can be caught by an except statement."
   ]
  },
  {
   "cell_type": "code",
   "execution_count": 8,
   "metadata": {
    "collapsed": false
   },
   "outputs": [],
   "source": [
    "from time import sleep\n",
    "\n",
    "MAX_ATTEMPTS = 3\n",
    "WAIT_BEFORE_RECONNECT = 10\n",
    "\n",
    "for attempt in range(MAX_ATTEMPTS):\n",
    "    try:\n",
    "        routes = vsrx1.rpc.get_route_information()\n",
    "    except jnpr.junos.exception.ConnectClosedError:\n",
    "        sleep(WAIT_BEFORE_RECONNECT)\n",
    "        try: vsrx1.open()\n",
    "        except jnpr.junos.exception.ConnectError: pass\n",
    "    else:\n",
    "        # Success - no exception raied - break for loop\n",
    "        break\n",
    "else:\n",
    "    # Max attempts exceeded and all failed - re-raise most recent exception\n",
    "    raise\n",
    "    \n",
    "# Continue with rest or script if RPC succeeded ..."
   ]
  },
  {
   "cell_type": "markdown",
   "metadata": {},
   "source": [
    "## Junos PyEZ RPC Responses\n",
    "The default response to a NETCONF XML RPC is a string representing an XML document. PyEZ uses the *lxml* library to parse the response in a *lxml.etree.Element* object rooted at the first child element of the **`<rpc-reply>`** element. In the case below the first child element of the **`<rpc-reply>`** would be **`<system-user-information>`**.\n",
    "\n",
    "    seanw@vsrx1> show system users | display xml    \n",
    "    <rpc-reply xmlns:junos=\"http://xml.juniper.net/junos/15.1X49/junos\">\n",
    "        <system-users-information xmlns=\"http://xml.juniper.net/junos/15.1X49/junos\">\n",
    "            <uptime-information>\n",
    "                <date-time junos:seconds=\"1486168021\">12:27AM</date-time>\n",
    "                <up-time junos:seconds=\"11565\">3:12</up-time>\n",
    "                <active-user-count junos:format=\"2 users\">2</active-user-count>\n",
    "                <load-average-1>0.04</load-average-1>\n",
    "                <load-average-5>0.02</load-average-5>\n",
    "                <load-average-15>0.00</load-average-15>\n",
    "                <user-table>\n",
    "                    <user-entry>\n",
    "                        <user>seanw</user>\n",
    "                        <tty>p0</tty>\n",
    "                        <from>192.168.12.1</from>\n",
    "                        <login-time junos:seconds=\"1486160956\">Fri10PM</login-time>\n",
    "                        <idle-time junos:seconds=\"0\">-</idle-time>\n",
    "                        <command>-cli (cli)</command>\n",
    "                    </user-entry>\n",
    "                    <user-entry>\n",
    "                        <user>demo</user>\n",
    "                        <tty>p1</tty>\n",
    "                        <from>192.168.12.1</from>\n",
    "                        <login-time junos:seconds=\"1486164395\">Fri11PM</login-time>\n",
    "                        <idle-time junos:seconds=\"282\">4</idle-time>\n",
    "                        <command>-cli (cli)</command>\n",
    "                    </user-entry>\n",
    "                </user-table>\n",
    "            </uptime-information>\n",
    "        </system-users-information>\n",
    "        <cli>\n",
    "            <banner></banner>\n",
    "        </cli>\n",
    "    </rpc-reply>"
   ]
  },
  {
   "cell_type": "code",
   "execution_count": 9,
   "metadata": {
    "collapsed": false
   },
   "outputs": [
    {
     "data": {
      "text/plain": [
       "'system-users-information'"
      ]
     },
     "execution_count": 9,
     "metadata": {},
     "output_type": "execute_result"
    }
   ],
   "source": [
    "response = vsrx1.rpc.get_system_users_information()\n",
    "response.tag"
   ]
  },
  {
   "cell_type": "markdown",
   "metadata": {},
   "source": [
    "For debugging purposes, the **lxml.etree.dump()** function can be used to dump the XML text of the response (albeit without the pretty formatting of the Junos CLI).\n",
    "\n",
    "    from lxml import etree\n",
    "    etree.dump(response)"
   ]
  },
  {
   "cell_type": "markdown",
   "metadata": {},
   "source": [
    "### Response Normalization\n",
    "Response normalization is a PyEZ feature that actually alters the XML content returned from an RPC method. There are some Junos RPCs that return XML data where the values of certain XML elements are wrapped in newline or other whitespace characters. An example of this extra whitespace can be seen with the *get-system-users-information* RPC. Notice the text for the **`<up-time>`** element has a newline character before and after the value string. Response normalization is designed to address this situation. When response normalization is enabled, all whitespace characters at the beginning and end of each XML element’s value are removed. Response normalization is disabled by default (except when using tables and views)."
   ]
  },
  {
   "cell_type": "code",
   "execution_count": 10,
   "metadata": {
    "collapsed": false
   },
   "outputs": [
    {
     "data": {
      "text/plain": [
       "'\\n7:42\\n'"
      ]
     },
     "execution_count": 10,
     "metadata": {},
     "output_type": "execute_result"
    }
   ],
   "source": [
    "response.findtext(\"uptime-information/up-time\")"
   ]
  },
  {
   "cell_type": "code",
   "execution_count": 11,
   "metadata": {
    "collapsed": false
   },
   "outputs": [
    {
     "data": {
      "text/plain": [
       "'7:42'"
      ]
     },
     "execution_count": 11,
     "metadata": {},
     "output_type": "execute_result"
    }
   ],
   "source": [
    "response = vsrx1.rpc.get_system_users_information(normalize=True)\n",
    "response.findtext(\"uptime-information/up-time\")"
   ]
  },
  {
   "cell_type": "markdown",
   "metadata": {},
   "source": [
    "Normalization can be enabled for all RPCs on a device instance or in a NETCONF session by specifying the *normalize = True* argument to the **Device()** or **open()** calls, respectively.\n",
    "\n",
    "    vsrx1 = Device(host = 'vsrx1', user = 'demo', password = 'Juniper', normalize = True)"
   ]
  },
  {
   "cell_type": "markdown",
   "metadata": {},
   "source": [
    "### lxml Elements\n",
    "**lxml** APIs can be used to select information from an RPC response. The text content of the first XML element matching an XPath expression can be retrieved with the **findtext()** method. The argument to the **findtext()** method is an XPath relative to the *response* element. Because *response* represents the **`<system-users-information>`** element, the **uptime-information/up-time** XPath matches the **`<up-time>`** tag in the *response*."
   ]
  },
  {
   "cell_type": "code",
   "execution_count": 12,
   "metadata": {
    "collapsed": false
   },
   "outputs": [
    {
     "data": {
      "text/plain": [
       "'7:42'"
      ]
     },
     "execution_count": 12,
     "metadata": {},
     "output_type": "execute_result"
    }
   ],
   "source": [
    "response.findtext(\"uptime-information/up-time\")"
   ]
  },
  {
   "cell_type": "markdown",
   "metadata": {},
   "source": [
    "The **`<up-time>`** element also contains a *seconds* attribute that provides the system’s uptime in an easier to parse number of seconds since the system booted. The value of this attribute can be accessed by chaining the **find()** method and the *attrib* attribute. While the **findtext()** method returns a string, the **find()** method returns an *lxml.etree.Element* object. The XML attributes of that *lxml.etree.Element* object can then be accessed using the *attrib* dictionary. The *attrib* dictionary is keyed using the XML attribute name."
   ]
  },
  {
   "cell_type": "code",
   "execution_count": 13,
   "metadata": {
    "collapsed": false
   },
   "outputs": [
    {
     "data": {
      "text/plain": [
       "'27777'"
      ]
     },
     "execution_count": 13,
     "metadata": {},
     "output_type": "execute_result"
    }
   ],
   "source": [
    "response.find(\"uptime-information/up-time\").attrib[\"seconds\"]"
   ]
  },
  {
   "cell_type": "markdown",
   "metadata": {
    "collapsed": true
   },
   "source": [
    "In the response variable, there is one **`<user-entry>`** XML element for each user currently logged into the device. Each **`<user-entry>`** element contains a **`<user>`** element with the user’s username. The **findall()** method returns a list of *lxml.etree.Element* objects matching an XPath. In this example, **findall()** is used to select the **`<user>`** element within every **`<user-entry>`** element."
   ]
  },
  {
   "cell_type": "code",
   "execution_count": 14,
   "metadata": {
    "collapsed": false
   },
   "outputs": [
    {
     "name": "stdout",
     "output_type": "stream",
     "text": [
      "seanw\n",
      "demo\n"
     ]
    }
   ],
   "source": [
    "users = response.findall(\"uptime-information/user-table/user-entry/user\")\n",
    "for user in users:\n",
    "    print user.text.strip()"
   ]
  },
  {
   "cell_type": "markdown",
   "metadata": {},
   "source": [
    "The next example combines the **findtext()** method with an XPath expression that selects the first matching XML element that has a specific matching child element."
   ]
  },
  {
   "cell_type": "code",
   "execution_count": 15,
   "metadata": {
    "collapsed": false
   },
   "outputs": [
    {
     "name": "stdout",
     "output_type": "stream",
     "text": [
      "seanw\n"
     ]
    }
   ],
   "source": [
    "print response.findtext(\"uptime-information/user-table/user-entry[tty='p0']/user\")"
   ]
  },
  {
   "cell_type": "code",
   "execution_count": 16,
   "metadata": {
    "collapsed": false
   },
   "outputs": [
    {
     "data": {
      "text/plain": [
       "'473'"
      ]
     },
     "execution_count": 16,
     "metadata": {},
     "output_type": "execute_result"
    }
   ],
   "source": [
    "XPATH = \"uptime-information/user-table/user-entry[user='demo']/idle-time\"\n",
    "response.find(XPATH).attrib['seconds']"
   ]
  },
  {
   "cell_type": "markdown",
   "metadata": {},
   "source": [
    "### jxmlease \n",
    "The jxmlease library can also be used to directly parse an *lxml.etree.Element* object by passing an *lxml.etree.Element* object to an instance of the *jxmlease.EtreeParser* class."
   ]
  },
  {
   "cell_type": "code",
   "execution_count": 17,
   "metadata": {
    "collapsed": false
   },
   "outputs": [
    {
     "name": "stdout",
     "output_type": "stream",
     "text": [
      "{'system-users-information': {'uptime-information': {'active-user-count': u'2',\n",
      "                                                     'date-time': u'5:12AM',\n",
      "                                                     'load-average-1': u'0.32',\n",
      "                                                     'load-average-15': u'0.03',\n",
      "                                                     'load-average-5': u'0.10',\n",
      "                                                     'up-time': u'7:42',\n",
      "                                                     'user-table': {...}}}}\n"
     ]
    }
   ],
   "source": [
    "import jxmlease\n",
    "\n",
    "parser = jxmlease.EtreeParser()\n",
    "new_response = parser(response)\n",
    "new_response.prettyprint(depth=3)"
   ]
  },
  {
   "cell_type": "markdown",
   "metadata": {},
   "source": [
    "The response is actually a *jxmlease.XMLDictNode* object, but behaves much like an ordered dictionary."
   ]
  },
  {
   "cell_type": "code",
   "execution_count": 18,
   "metadata": {
    "collapsed": false
   },
   "outputs": [
    {
     "data": {
      "text/plain": [
       "jxmlease.dictnode.XMLDictNode"
      ]
     },
     "execution_count": 18,
     "metadata": {},
     "output_type": "execute_result"
    }
   ],
   "source": [
    "type(new_response)"
   ]
  },
  {
   "cell_type": "markdown",
   "metadata": {},
   "source": [
    "Access to any level of the *jxmlease.XMLDictNode* object can be done by specifying a chain of dictionary keys. The tag of each XML element is used as a dictionary key, and begins with the tag of the RPC response’s root element."
   ]
  },
  {
   "cell_type": "code",
   "execution_count": 19,
   "metadata": {
    "collapsed": false
   },
   "outputs": [
    {
     "name": "stdout",
     "output_type": "stream",
     "text": [
      "7:42\n"
     ]
    }
   ],
   "source": [
    "print new_response['system-users-information']['uptime-information']['up-time']"
   ]
  },
  {
   "cell_type": "markdown",
   "metadata": {},
   "source": [
    "For XML elements that have attributes, you can use the object’s **get_xml_attr()** method to retrieve the attribute’s value. The **get_xml_attr()** also allows a default value to be returned if the XML attribute name does not exist."
   ]
  },
  {
   "cell_type": "code",
   "execution_count": 20,
   "metadata": {
    "collapsed": false
   },
   "outputs": [
    {
     "name": "stdout",
     "output_type": "stream",
     "text": [
      "27777\n"
     ]
    }
   ],
   "source": [
    "up_time = new_response['system-users-information']['uptime-information']['up-time']\n",
    "print up_time.get_xml_attr('seconds')"
   ]
  },
  {
   "cell_type": "code",
   "execution_count": 21,
   "metadata": {
    "collapsed": false
   },
   "outputs": [
    {
     "name": "stdout",
     "output_type": "stream",
     "text": [
      "0\n"
     ]
    }
   ],
   "source": [
    "print up_time.get_xml_attr('foo', 0)"
   ]
  },
  {
   "cell_type": "code",
   "execution_count": 22,
   "metadata": {
    "collapsed": true
   },
   "outputs": [],
   "source": [
    "vsrx1.close()"
   ]
  }
 ],
 "metadata": {
  "kernelspec": {
   "display_name": "Python 2",
   "language": "python",
   "name": "python2"
  },
  "language_info": {
   "codemirror_mode": {
    "name": "ipython",
    "version": 2
   },
   "file_extension": ".py",
   "mimetype": "text/x-python",
   "name": "python",
   "nbconvert_exporter": "python",
   "pygments_lexer": "ipython2",
   "version": "2.7.10"
  }
 },
 "nbformat": 4,
 "nbformat_minor": 2
}
