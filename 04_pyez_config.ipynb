{
 "cells": [
  {
   "cell_type": "markdown",
   "metadata": {},
   "source": [
    "## Junos PyEZ Configuration\n",
    "PyEZ provides a *Config* class which simplifies the process of loading and committing configuration changes to a Junos device. In addition, PyEZ integrates with the Jinja2 templating engine to simplify the process of creating the actual configuration snippet and offers utilities for comparing configurations, rolling back configuration changes, and locking or unlocking the configuration database."
   ]
  },
  {
   "cell_type": "code",
   "execution_count": 1,
   "metadata": {
    "collapsed": false
   },
   "outputs": [
    {
     "data": {
      "text/plain": [
       "Device(vsrx1)"
      ]
     },
     "execution_count": 1,
     "metadata": {},
     "output_type": "execute_result"
    }
   ],
   "source": [
    "from jnpr.junos import Device\n",
    "\n",
    "vsrx1 = Device(host='vsrx1')\n",
    "vsrx1.open()"
   ]
  },
  {
   "cell_type": "markdown",
   "metadata": {},
   "source": [
    "Configuration requires that the *jnpr.junos.utils.config* module \n",
    "* create a configuration instance variable using the **Config()** class;\n",
    "* lock the configuration database using the **lock()** method;\n",
    "* a configuration file is loaded into the device’s candidate configuration by passing the *template_path* and *template_vars* argument to the **load()** method; \n",
    "* check the configuration with the **commit_check()** method; \n",
    "* print the diff with the **diff()** method;\n",
    "* commit the configuration with the **commit()** method; and\n",
    "* finally unlock the configuration database with the  **unlock()** method"
   ]
  },
  {
   "cell_type": "code",
   "execution_count": 2,
   "metadata": {
    "collapsed": false
   },
   "outputs": [],
   "source": [
    "from jnpr.junos.utils.config import Config\n",
    "\n",
    "conf = Config(vsrx1)"
   ]
  },
  {
   "cell_type": "code",
   "execution_count": 3,
   "metadata": {
    "collapsed": true
   },
   "outputs": [],
   "source": [
    "try:\n",
    "    conf.lock()\n",
    "except LockError as err:\n",
    "    print \"Failed exclusive lock on config database: {0}\".format(err)\n",
    "    print \"Disconnecting from device\"\n",
    "    vsrx1.close()"
   ]
  },
  {
   "cell_type": "markdown",
   "metadata": {},
   "source": [
    "    seanw@Seans-iMac:~/Documents/jupyter_notebook/junos_pyez$ more hostname.set \n",
    "    set system host-name {{ host_name }}"
   ]
  },
  {
   "cell_type": "code",
   "execution_count": 4,
   "metadata": {
    "collapsed": false
   },
   "outputs": [],
   "source": [
    "try:\n",
    "    conf.load(template_path='hostname.set', template_vars={'host_name': 'foo-bar'})\n",
    "except ConfigLoadError as err:\n",
    "    print \"Configuration load error: {0}\".format(err)\n",
    "    print \"Performing rollback 0\"\n",
    "    conf.rollback(rb_id=0)\n",
    "    print \"Unlocking configuration\"\n",
    "    conf.unlock()\n",
    "    print \"Disconnecting from device\"\n",
    "    vsrx1.close()"
   ]
  },
  {
   "cell_type": "markdown",
   "metadata": {},
   "source": [
    "The **pdiff()** methods can take an unnamed optional argument that is an integer representing the rollback ID. "
   ]
  },
  {
   "cell_type": "code",
   "execution_count": 5,
   "metadata": {
    "collapsed": false
   },
   "outputs": [
    {
     "name": "stdout",
     "output_type": "stream",
     "text": [
      "\n",
      "[edit system]\n",
      "-  host-name vsrx1;\n",
      "+  host-name foo-bar;\n",
      "\n"
     ]
    }
   ],
   "source": [
    "conf.pdiff()"
   ]
  },
  {
   "cell_type": "code",
   "execution_count": 6,
   "metadata": {
    "collapsed": false
   },
   "outputs": [],
   "source": [
    "try:\n",
    "    conf.commit_check()\n",
    "except ConfigLoadError as err:\n",
    "    print \"Configuration load error: {0}\".format(err)\n",
    "    print \"Performing rollback 0\"\n",
    "    conf.rollback(rb_id=0)\n",
    "    print \"Unlocking configuration\"\n",
    "    conf.unlock()\n",
    "    print \"Disconnecting from device\"\n",
    "    vsrx1.close() "
   ]
  },
  {
   "cell_type": "markdown",
   "metadata": {},
   "source": [
    "The **commit()** method takes several optional arguments including *confirm* where the value is an integer specifying the number of minutes before a rollback occurs. A commit must be invoked with the **commit()** method before the timer expires otherwise a rollback occurs."
   ]
  },
  {
   "cell_type": "code",
   "execution_count": 7,
   "metadata": {
    "collapsed": false
   },
   "outputs": [
    {
     "data": {
      "text/plain": [
       "True"
      ]
     },
     "execution_count": 7,
     "metadata": {},
     "output_type": "execute_result"
    }
   ],
   "source": [
    "conf.commit(comment='Conf by PyEZ')"
   ]
  },
  {
   "cell_type": "code",
   "execution_count": 8,
   "metadata": {
    "collapsed": false
   },
   "outputs": [
    {
     "data": {
      "text/plain": [
       "True"
      ]
     },
     "execution_count": 8,
     "metadata": {},
     "output_type": "execute_result"
    }
   ],
   "source": [
    "conf.unlock()"
   ]
  },
  {
   "cell_type": "markdown",
   "metadata": {
    "collapsed": true
   },
   "source": [
    "Likewise Junos rollbacks can be performed to rollback the configuration with the **rollback()** method, which takes the *rb_id* argument with an integer value the specifies what configuration to rollback to (1 being the last commit)."
   ]
  },
  {
   "cell_type": "code",
   "execution_count": 9,
   "metadata": {
    "collapsed": false
   },
   "outputs": [
    {
     "data": {
      "text/plain": [
       "True"
      ]
     },
     "execution_count": 9,
     "metadata": {},
     "output_type": "execute_result"
    }
   ],
   "source": [
    "conf.rollback(rb_id=1)"
   ]
  },
  {
   "cell_type": "code",
   "execution_count": 10,
   "metadata": {
    "collapsed": false
   },
   "outputs": [
    {
     "name": "stdout",
     "output_type": "stream",
     "text": [
      "\n",
      "[edit system]\n",
      "-  host-name foo-bar;\n",
      "+  host-name vsrx1;\n",
      "\n"
     ]
    }
   ],
   "source": [
    "conf.pdiff()"
   ]
  },
  {
   "cell_type": "code",
   "execution_count": 11,
   "metadata": {
    "collapsed": false
   },
   "outputs": [
    {
     "data": {
      "text/plain": [
       "True"
      ]
     },
     "execution_count": 11,
     "metadata": {},
     "output_type": "execute_result"
    }
   ],
   "source": [
    "conf.commit(comment='Rollback conf by PyEZ')"
   ]
  },
  {
   "cell_type": "code",
   "execution_count": 12,
   "metadata": {
    "collapsed": false
   },
   "outputs": [],
   "source": [
    "vsrx1.close()"
   ]
  },
  {
   "cell_type": "markdown",
   "metadata": {
    "collapsed": true
   },
   "source": [
    "    seanw@vsrx1> show system commit                      \n",
    "    0   2017-02-04 13:45:55 UTC by seanw via netconf\n",
    "        Rollback conf by PyEZ\n",
    "    1   2017-02-04 13:45:15 UTC by seanw via netconf\n",
    "        Conf by PyEZ\n",
    "    [...snipped...]    "
   ]
  },
  {
   "cell_type": "markdown",
   "metadata": {},
   "source": [
    "### Jinja2 Templating\n",
    "Jinja2 is used to generate documents (configurations) based on templates and uses the .j2 file extension. Variables are marked in the template with the syntax: **{{ var_name }}**. Jinja2 also supports some control structures (if statements and for loops). These structures use a **{% ... %}** syntax."
   ]
  },
  {
   "cell_type": "markdown",
   "metadata": {},
   "source": [
    "    seanw@Seans-iMac:~/jupyter_notebook/junos_pyez$ more interface_template.j2 \n",
    "    {%- if interfaces %}\n",
    "    interfaces {\n",
    "        {%- for interface in interfaces %}\n",
    "        {{ interface.name }} {\n",
    "            {%- if interface.sub_interfaces %}\n",
    "            flexible-vlan-tagging;\n",
    "            encapsulation flexible-ethernet-services;\n",
    "            {%- for sub_interface in interface.sub_interfaces %}\n",
    "            unit {{ sub_interface.vlan }} {\n",
    "                vlan-id {{ sub_interface.vlan }};\n",
    "                family inet {\n",
    "                    address {{ sub_interface.ip_addr }};\n",
    "                }\n",
    "            }\n",
    "            {%- endfor %}\n",
    "            {%- else %}\n",
    "            unit 0 {\n",
    "                {%- if interface.ip_addr %}\n",
    "                family inet {\n",
    "                    address {{ interface.ip_addr }};\n",
    "                }\n",
    "                {%- else %}\n",
    "                family ethernet-switching {\n",
    "                    interface-mode {{ interface.mode }};\n",
    "                    vlan {\n",
    "                        members [{%- for vlan in interface.vlans %} {{ vlan }} {%- endfor %}]\n",
    "                    }\n",
    "                }\n",
    "                {%- endif %}\n",
    "            }\n",
    "            {%- endif %}\n",
    "        }\n",
    "        {%- endfor %}\n",
    "    }\n",
    "    {% endif %}"
   ]
  },
  {
   "cell_type": "markdown",
   "metadata": {},
   "source": [
    "### YAML (Template Variables)\n",
    "YAML stands for \"Yaml Ain't Markup Language\" and is human-readable language with less markup than XML and is a superset of JSON. YAML is used for “user to program” communication as it allows users to provide data. It is designed to translate to data structures which are common to various languages (cross language: Python, Perl, Ruby, etc). In Junos configuration it is used to define variable values that will be rendered with a Jinja2 template."
   ]
  },
  {
   "cell_type": "markdown",
   "metadata": {},
   "source": [
    "    Seans-iMac:~/jupyter_notebook/junos_pyez$ more interface_template.j2 \n",
    "    ---\n",
    "    interfaces:\n",
    "    - name: ge-0/0/0\n",
    "      sub_interfaces:\n",
    "      - vlan: 161\n",
    "        ip_addr: 172.16.1.1/24\n",
    "      - vlan: 162\n",
    "        ip_addr: 172.16.2.1/24\n",
    "    - name: ge-0/0/1\n",
    "      ip_addr: 9.9.9.1/24\n",
    "    - name: ge-0/0/2\n",
    "      mode: trunk\n",
    "      vlans:\n",
    "      - 500\n",
    "      - 600-650\n",
    "      - 700\n",
    "    - name: ge-0/0/3\n",
    "      sub_interfaces:\n",
    "      - { vlan: 101, ip_addr: 10.10.1.254/24 }\n",
    "      - { vlan: 201, ip_addr: 10.20.1.254/24 }\n",
    "      - { vlan: 301, ip_addr: 10.30.1.254/24 }"
   ]
  },
  {
   "cell_type": "markdown",
   "metadata": {},
   "source": [
    "### Render Junos Configuration in Python\n",
    "A configuration file can be loaded into a Junos device’s candidate configuration by passing the template_path and template_vars argument to the **load()** method. However, with Python the configuration can be rendered and the resulting output presented as well."
   ]
  },
  {
   "cell_type": "code",
   "execution_count": 13,
   "metadata": {
    "collapsed": false
   },
   "outputs": [
    {
     "name": "stdout",
     "output_type": "stream",
     "text": [
      "\n",
      "interfaces {\n",
      "    ge-0/0/0 {\n",
      "        flexible-vlan-tagging;\n",
      "        encapsulation flexible-ethernet-services;\n",
      "        unit 161 {\n",
      "            vlan-id 161;\n",
      "            family inet {\n",
      "                address 172.16.1.1/24;\n",
      "            }\n",
      "        }\n",
      "        unit 162 {\n",
      "            vlan-id 162;\n",
      "            family inet {\n",
      "                address 172.16.2.1/24;\n",
      "            }\n",
      "        }\n",
      "    }\n",
      "    ge-0/0/1 {\n",
      "        unit 0 {\n",
      "            family inet {\n",
      "                address 9.9.9.1/24;\n",
      "            }\n",
      "        }\n",
      "    }\n",
      "    ge-0/0/2 {\n",
      "        unit 0 {\n",
      "            family ethernet-switching {\n",
      "                interface-mode trunk;\n",
      "                vlan {\n",
      "                    members [ 500 600-650 700]\n",
      "                }\n",
      "            }\n",
      "        }\n",
      "    }\n",
      "    ge-0/0/3 {\n",
      "        flexible-vlan-tagging;\n",
      "        encapsulation flexible-ethernet-services;\n",
      "        unit 101 {\n",
      "            vlan-id 101;\n",
      "            family inet {\n",
      "                address 10.10.1.254/24;\n",
      "            }\n",
      "        }\n",
      "        unit 201 {\n",
      "            vlan-id 201;\n",
      "            family inet {\n",
      "                address 10.20.1.254/24;\n",
      "            }\n",
      "        }\n",
      "        unit 301 {\n",
      "            vlan-id 301;\n",
      "            family inet {\n",
      "                address 10.30.1.254/24;\n",
      "            }\n",
      "        }\n",
      "    }\n",
      "}\n",
      "\n"
     ]
    }
   ],
   "source": [
    "from jinja2 import Template\n",
    "from glob import glob\n",
    "import yaml\n",
    "\n",
    "# YAML file template variables (input):\n",
    "with open(glob('*.yml')[0]) as my_vars:\n",
    "    tvars = yaml.load(my_vars.read())\n",
    "\n",
    "# Jinja2 template file:\n",
    "with open(glob('*.j2')[0]) as my_template:\n",
    "    template_format = my_template.read()\n",
    "\n",
    "# Create a instance of the Template class    \n",
    "template = Template(template_format)\n",
    "\n",
    "# Render the configuration using the render() method\n",
    "print template.render(tvars)"
   ]
  }
 ],
 "metadata": {
  "kernelspec": {
   "display_name": "Python 2",
   "language": "python",
   "name": "python2"
  },
  "language_info": {
   "codemirror_mode": {
    "name": "ipython",
    "version": 2
   },
   "file_extension": ".py",
   "mimetype": "text/x-python",
   "name": "python",
   "nbconvert_exporter": "python",
   "pygments_lexer": "ipython2",
   "version": "2.7.10"
  }
 },
 "nbformat": 4,
 "nbformat_minor": 2
}
