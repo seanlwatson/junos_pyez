{
 "cells": [
  {
   "cell_type": "markdown",
   "metadata": {},
   "source": [
    "##  Junos PyEZ Operational Tables and Views\n",
    "Tables and views are another tool for mapping RPC responses into native Python data structures. PyEZ provides several predefined tables and views for common RPCs and also allows users to define their own to extract information from any Junos RPC.\n",
    "\n",
    "The operational data of a Junos device is the set of state representing the current running conditions of the device. Typically viewing operational data is done using CLI show commands or using operational XML RPCs. This operational data as similar to a database. Databases are organized into a collection of tables, and in a similar way, PyEZ conceptually organizes a Junos device’s operational data into a collection of tables.\n",
    "\n",
    "In PyEZ, a “table” represents the information that is returned by a particular XML RPC. A PyEZ table is further divided into a list of “items\". These items are all of the XML nodes in the RPC output that match a specific XPath expression.\n",
    "\n",
    "Similar to how a database view selects and presents a subset of fields from a database table, a PyEZ “view” selects and maps a set of fields (XML nodes) from each PyEZ table item into a native Python data structure. Each PyEZ table has at least one view, the default view, for mapping an item’s fields into a native Python data structure. Additional views may be defined, but only the default view is required."
   ]
  },
  {
   "cell_type": "markdown",
   "metadata": {},
   "source": [
    "### Pre-packaged  Operational Tables and Views\n",
    "The location of the *jnpr.junos* module of the PyEZ library is installation-specific. Determine the directory location on your machine by displaying the directory of the *jnpr.junos.__file__* attribute."
   ]
  },
  {
   "cell_type": "code",
   "execution_count": 1,
   "metadata": {
    "collapsed": false
   },
   "outputs": [
    {
     "data": {
      "text/plain": [
       "'/Library/Python/2.7/site-packages/jnpr/junos'"
      ]
     },
     "execution_count": 1,
     "metadata": {},
     "output_type": "execute_result"
    }
   ],
   "source": [
    "import jnpr.junos\n",
    "import os.path\n",
    "\n",
    "os.path.dirname(jnpr.junos.__file__)"
   ]
  },
  {
   "cell_type": "markdown",
   "metadata": {},
   "source": [
    "    seanw@Seans-iMac:/Library/Python/2.7/site-packages/jnpr/junos$ tree op/ -P *.yml\n",
    "    op/\n",
    "    |-- arp.yml\n",
    "    |-- bfd.yml\n",
    "    |-- ccc.yml\n",
    "    |-- ethernetswitchingtable.yml\n",
    "    |-- ethport.yml\n",
    "    |-- fpc.yml\n",
    "    |-- idpattacks.yml\n",
    "    |-- intopticdiag.yml\n",
    "    |-- isis.yml\n",
    "    |-- l2circuit.yml\n",
    "    |-- lacp.yml\n",
    "    |-- ldp.yml\n",
    "    |-- lldp.yml\n",
    "    |-- nd.yml\n",
    "    |-- ospf.yml\n",
    "    |-- phyport.yml\n",
    "    |-- routes.yml\n",
    "    |-- teddb.yml\n",
    "    |-- vlan.yml\n",
    "    `-- xcvr.yml\n",
    "\n",
    "    0 directories, 20 files"
   ]
  },
  {
   "cell_type": "markdown",
   "metadata": {},
   "source": [
    "In order to use the prepackaged tables and views, list the names of the available tables. "
   ]
  },
  {
   "cell_type": "markdown",
   "metadata": {},
   "source": [
    "    seanw@Seans-iMac:/Library/Python/2.7/site-packages/jnpr/junos$ grep Table: op/*.yml\n",
    "    op/arp.yml:ArpTable:\n",
    "    op/bfd.yml:BfdSessionTable:\n",
    "    op/bfd.yml:_BfdSessionClientTable:\n",
    "    op/ccc.yml:CCCTable:\n",
    "    op/ethernetswitchingtable.yml:EthernetSwitchingTable:\n",
    "    op/ethernetswitchingtable.yml:_MacTableEntriesTable:\n",
    "    op/ethernetswitchingtable.yml:_MacTableInterfacesTable:\n",
    "    op/ethport.yml:EthPortTable:\n",
    "    op/fpc.yml:FpcHwTable:\n",
    "    op/fpc.yml:FpcMiReHwTable:\n",
    "    op/fpc.yml:FpcInfoTable:\n",
    "    op/fpc.yml:FpcMiReInfoTable:\n",
    "    op/idpattacks.yml:IDPAttackTable:\n",
    "    op/intopticdiag.yml:PhyPortDiagTable:\n",
    "    op/isis.yml:IsisAdjacencyTable:\n",
    "    op/isis.yml:_IsisAdjacencyLogTable:\n",
    "    op/l2circuit.yml:L2CircuitConnectionTable:\n",
    "    op/lacp.yml:LacpPortTable:\n",
    "    op/lacp.yml:_LacpPortStateTable:\n",
    "    op/lacp.yml:_LacpPortProtoTable:\n",
    "    op/ldp.yml:LdpNeighborTable:\n",
    "    op/ldp.yml:_LdpNeighborHelloFlagsTable:\n",
    "    op/ldp.yml:_LdpNeighborTypesTable:\n",
    "    op/lldp.yml:LLDPNeighborTable:\n",
    "    op/nd.yml:NdTable:\n",
    "    op/ospf.yml:OspfNeighborTable:\n",
    "    op/ospf.yml:OspfInterfaceTable:\n",
    "    op/phyport.yml:PhyPortTable:\n",
    "    op/phyport.yml:PhyPortStatsTable:\n",
    "    op/phyport.yml:PhyPortErrorTable:\n",
    "    op/routes.yml:RouteTable:\n",
    "    op/routes.yml:RouteSummaryTable:\n",
    "    op/routes.yml:_rspTable:\n",
    "    op/teddb.yml:TedTable:\n",
    "    op/teddb.yml:_linkTable:\n",
    "    op/teddb.yml:TedSummaryTable:\n",
    "    op/vlan.yml:VlanTable:\n",
    "    op/xcvr.yml:XcvrTable:"
   ]
  },
  {
   "cell_type": "code",
   "execution_count": 2,
   "metadata": {
    "collapsed": false
   },
   "outputs": [
    {
     "data": {
      "text/plain": [
       "Device(vsrx1)"
      ]
     },
     "execution_count": 2,
     "metadata": {},
     "output_type": "execute_result"
    }
   ],
   "source": [
    "from jnpr.junos import Device\n",
    "\n",
    "vsrx1 = Device(host='vsrx1')\n",
    "vsrx1.open()"
   ]
  },
  {
   "cell_type": "markdown",
   "metadata": {},
   "source": [
    "The first step in using one of these tables is to import the appropriate Python class. The Python class name is the same as the table name defined in the YAML file. Create an empty table instance by passing the device instance variable (vsrx1) as an argument to the class constructor **ArpTable()**. The *arp_table* instance variable can now be populated with all table items by invoking the **get()** instance method. The **get()** method executes an RPC and uses the results to populate the *arp_table* instance with five (5) items."
   ]
  },
  {
   "cell_type": "code",
   "execution_count": 3,
   "metadata": {
    "collapsed": false
   },
   "outputs": [
    {
     "data": {
      "text/plain": [
       "ArpTable:vsrx1: 5 items"
      ]
     },
     "execution_count": 3,
     "metadata": {},
     "output_type": "execute_result"
    }
   ],
   "source": [
    "from jnpr.junos.op.arp import ArpTable\n",
    "\n",
    "arp_table = ArpTable(vsrx1)\n",
    "arp_table.get()"
   ]
  },
  {
   "cell_type": "markdown",
   "metadata": {},
   "source": [
    "An alternative way of creating and populating the table is to bind the table as an attribute of the device instance variable. The **get()** method is then invoked on this bound attribute. Storing the *arp_table* as an attribute of the device instance variable is a convenient notation when you’re maintaining a table for multiple devices."
   ]
  },
  {
   "cell_type": "code",
   "execution_count": 4,
   "metadata": {
    "collapsed": false
   },
   "outputs": [
    {
     "data": {
      "text/plain": [
       "ArpTable:vsrx1: 5 items"
      ]
     },
     "execution_count": 4,
     "metadata": {},
     "output_type": "execute_result"
    }
   ],
   "source": [
    "from jnpr.junos.op.arp import ArpTable\n",
    "\n",
    "vsrx1.bind(arp_table = ArpTable)\n",
    "vsrx1.arp_table.get()"
   ]
  },
  {
   "cell_type": "markdown",
   "metadata": {},
   "source": [
    "When the **get()** method is invoked, it executes a corresponding XML RPC defined in the table’s YAML file. The **get()** method can be passed the same parameters as if you were invoking the RPC in PyEZ (see: RPC Parameters). The *get-arp-table-information* RPC supports an **`<interface>`** argument to limit the response to ARP entries on a specific interface. Invoking a table’s **get()** method always updates the table’s items by executing an XML RPC against the Junos device and receiving the RPC’s response. \n",
    "\n",
    "**NOTE:** Normalization of table and view data is enabled by default."
   ]
  },
  {
   "cell_type": "code",
   "execution_count": 5,
   "metadata": {
    "collapsed": false
   },
   "outputs": [
    {
     "data": {
      "text/plain": [
       "ArpTable:vsrx1: 1 items"
      ]
     },
     "execution_count": 5,
     "metadata": {},
     "output_type": "execute_result"
    }
   ],
   "source": [
    "arp_table.get(interface='ge-0/0/0.1')"
   ]
  },
  {
   "cell_type": "code",
   "execution_count": 6,
   "metadata": {
    "collapsed": false
   },
   "outputs": [
    {
     "name": "stdout",
     "output_type": "stream",
     "text": [
      "[('00:0c:29:70:5c:47',\n",
      "  [('interface_name', 'ge-0/0/0.1'),\n",
      "   ('ip_address', '20.20.0.1'),\n",
      "   ('mac_address', '00:0c:29:70:5c:47')])]\n"
     ]
    }
   ],
   "source": [
    "from pprint import pprint\n",
    "pprint(arp_table.items())"
   ]
  },
  {
   "cell_type": "markdown",
   "metadata": {},
   "source": [
    "Each *jnpr.junos.factory.OpTable* object operates similarly to a Python *OrderedDict* of view objects. The following example refreshes the arp_table instance with all ARP table entries and then shows arp_table’s type is *jnpr.junos.factory.OpTable.ArpTable*, which is a subclass of *jnpr.junos.factory.OpTable*. Like with a dictionary, the keys and values of arp_table are accessed using the **items()** method."
   ]
  },
  {
   "cell_type": "code",
   "execution_count": 7,
   "metadata": {
    "collapsed": false
   },
   "outputs": [
    {
     "data": {
      "text/plain": [
       "ArpTable:vsrx1: 5 items"
      ]
     },
     "execution_count": 7,
     "metadata": {},
     "output_type": "execute_result"
    }
   ],
   "source": [
    "arp_table.get()"
   ]
  },
  {
   "cell_type": "code",
   "execution_count": 8,
   "metadata": {
    "collapsed": false
   },
   "outputs": [
    {
     "data": {
      "text/plain": [
       "jnpr.junos.factory.OpTable.ArpTable"
      ]
     },
     "execution_count": 8,
     "metadata": {},
     "output_type": "execute_result"
    }
   ],
   "source": [
    "type(arp_table)"
   ]
  },
  {
   "cell_type": "code",
   "execution_count": 9,
   "metadata": {
    "collapsed": false
   },
   "outputs": [
    {
     "name": "stdout",
     "output_type": "stream",
     "text": [
      "[('00:0c:29:70:5c:47',\n",
      "  [('interface_name', 'ge-0/0/0.1'),\n",
      "   ('ip_address', '20.20.0.1'),\n",
      "   ('mac_address', '00:0c:29:70:5c:47')]),\n",
      " ('00:0c:29:70:5c:51',\n",
      "  [('interface_name', 'ge-0/0/1.2'),\n",
      "   ('ip_address', '20.20.0.5'),\n",
      "   ('mac_address', '00:0c:29:70:5c:51')]),\n",
      " ('fe:00:00:00:00:04',\n",
      "  [('interface_name', 'em0.0'),\n",
      "   ('ip_address', '128.0.0.16'),\n",
      "   ('mac_address', 'fe:00:00:00:00:04')]),\n",
      " ('00:50:56:c0:00:08',\n",
      "  [('interface_name', 'fxp0.0'),\n",
      "   ('ip_address', '172.16.108.1'),\n",
      "   ('mac_address', '00:50:56:c0:00:08')]),\n",
      " ('aa:bb:cc:dd:ee:ff',\n",
      "  [('interface_name', 'em1.32768'),\n",
      "   ('ip_address', '192.168.1.1'),\n",
      "   ('mac_address', 'aa:bb:cc:dd:ee:ff')])]\n"
     ]
    }
   ],
   "source": [
    "pprint(arp_table.items())"
   ]
  },
  {
   "cell_type": "markdown",
   "metadata": {},
   "source": [
    "Because the table operates similarly to an *OrderedDict*, the individual items (which are *jnpr.junos.factory.View.ArpView* objects) can be accessed by either position or key. Remember an *OrderedDict* is a dictionary subclass that remembers the order in which its contents are added. Individual values within a view item can be accessed with two-level references using either an index or a key value for the outer reference."
   ]
  },
  {
   "cell_type": "code",
   "execution_count": 10,
   "metadata": {
    "collapsed": false
   },
   "outputs": [
    {
     "data": {
      "text/plain": [
       "jnpr.junos.factory.View.ArpView"
      ]
     },
     "execution_count": 10,
     "metadata": {},
     "output_type": "execute_result"
    }
   ],
   "source": [
    "type(arp_table[0])"
   ]
  },
  {
   "cell_type": "code",
   "execution_count": 11,
   "metadata": {
    "collapsed": false
   },
   "outputs": [
    {
     "name": "stdout",
     "output_type": "stream",
     "text": [
      "[('interface_name', 'ge-0/0/0.1'),\n",
      " ('ip_address', '20.20.0.1'),\n",
      " ('mac_address', '00:0c:29:70:5c:47')]\n"
     ]
    }
   ],
   "source": [
    "pprint(arp_table[0].items())"
   ]
  },
  {
   "cell_type": "code",
   "execution_count": 12,
   "metadata": {
    "collapsed": false
   },
   "outputs": [
    {
     "name": "stdout",
     "output_type": "stream",
     "text": [
      "[('interface_name', 'ge-0/0/0.1'),\n",
      " ('ip_address', '20.20.0.1'),\n",
      " ('mac_address', '00:0c:29:70:5c:47')]\n"
     ]
    }
   ],
   "source": [
    "pprint(arp_table['00:0c:29:70:5c:47'].items())"
   ]
  },
  {
   "cell_type": "code",
   "execution_count": 13,
   "metadata": {
    "collapsed": false
   },
   "outputs": [
    {
     "data": {
      "text/plain": [
       "'20.20.0.1'"
      ]
     },
     "execution_count": 13,
     "metadata": {},
     "output_type": "execute_result"
    }
   ],
   "source": [
    "arp_item = arp_table[0]\n",
    "arp_item.ip_address"
   ]
  },
  {
   "cell_type": "code",
   "execution_count": 14,
   "metadata": {
    "collapsed": false
   },
   "outputs": [
    {
     "data": {
      "text/plain": [
       "'ge-0/0/0.1'"
      ]
     },
     "execution_count": 14,
     "metadata": {},
     "output_type": "execute_result"
    }
   ],
   "source": [
    "arp_item.interface_name"
   ]
  },
  {
   "cell_type": "code",
   "execution_count": 15,
   "metadata": {
    "collapsed": false
   },
   "outputs": [
    {
     "data": {
      "text/plain": [
       "'00:0c:29:70:5c:47'"
      ]
     },
     "execution_count": 15,
     "metadata": {},
     "output_type": "execute_result"
    }
   ],
   "source": [
    "arp_item.mac_address"
   ]
  },
  {
   "cell_type": "code",
   "execution_count": 16,
   "metadata": {
    "collapsed": false
   },
   "outputs": [
    {
     "data": {
      "text/plain": [
       "['interface_name', 'ip_address', 'mac_address']"
      ]
     },
     "execution_count": 16,
     "metadata": {},
     "output_type": "execute_result"
    }
   ],
   "source": [
    "arp_item.keys()"
   ]
  },
  {
   "cell_type": "code",
   "execution_count": 17,
   "metadata": {
    "collapsed": false
   },
   "outputs": [
    {
     "data": {
      "text/plain": [
       "[('interface_name', 'ge-0/0/0.1'),\n",
       " ('ip_address', '20.20.0.1'),\n",
       " ('mac_address', '00:0c:29:70:5c:47')]"
      ]
     },
     "execution_count": 17,
     "metadata": {},
     "output_type": "execute_result"
    }
   ],
   "source": [
    "arp_item.items()"
   ]
  },
  {
   "cell_type": "markdown",
   "metadata": {},
   "source": [
    "In addition, every view object has two special properties, *name* and *T*. The name property provides the view’s unique name, or key, within the table. The *T* property is a reference back to the associated table containing the view."
   ]
  },
  {
   "cell_type": "code",
   "execution_count": 18,
   "metadata": {
    "collapsed": false
   },
   "outputs": [
    {
     "data": {
      "text/plain": [
       "'00:0c:29:70:5c:47'"
      ]
     },
     "execution_count": 18,
     "metadata": {},
     "output_type": "execute_result"
    }
   ],
   "source": [
    "arp_item.name"
   ]
  },
  {
   "cell_type": "code",
   "execution_count": 19,
   "metadata": {
    "collapsed": false
   },
   "outputs": [
    {
     "data": {
      "text/plain": [
       "ArpTable:vsrx1: 5 items"
      ]
     },
     "execution_count": 19,
     "metadata": {},
     "output_type": "execute_result"
    }
   ],
   "source": [
    "arp_item.T"
   ]
  },
  {
   "cell_type": "code",
   "execution_count": 20,
   "metadata": {
    "collapsed": true
   },
   "outputs": [],
   "source": [
    "vsrx1.close()"
   ]
  },
  {
   "cell_type": "markdown",
   "metadata": {},
   "source": [
    "### Existing ArpTable and ArpView Definition\n",
    "PyEZ tables and views are defined in .yml files using the YAML format. PyEZ table and view definitions use a subset of the full YAML syntax. They primarily use associative arrays with multiple levels of hierarchy. Values are typically string data types. Here’s an example using the arp.yml file, which defines the ArpTable and ArpView classes used in the previous section."
   ]
  },
  {
   "cell_type": "markdown",
   "metadata": {},
   "source": [
    "    seanw@vsrx1> show arp | display xml rpc \n",
    "    <rpc-reply xmlns:junos=\"http://xml.juniper.net/junos/15.1X49/junos\">\n",
    "        <rpc>\n",
    "            <get-arp-table-information>\n",
    "            </get-arp-table-information>\n",
    "        </rpc>\n",
    "        <cli>\n",
    "            <banner></banner>\n",
    "        </cli>\n",
    "    </rpc-reply>"
   ]
  },
  {
   "cell_type": "markdown",
   "metadata": {},
   "source": [
    "    seanw@vsrx1> show arp | display xml        \n",
    "    <rpc-reply xmlns:junos=\"http://xml.juniper.net/junos/15.1X49/junos\">\n",
    "        <arp-table-information xmlns=\"http://xml.juniper.net/junos/15.1X49/junos-arp\" junos:style=\"normal\">\n",
    "            <arp-table-entry>\n",
    "                <mac-address>00:0c:29:6a:f7:a0</mac-address>\n",
    "                <ip-address>20.20.0.1</ip-address>\n",
    "                <hostname>20.20.0.1</hostname>\n",
    "                <interface-name>ge-0/0/0.1</interface-name>\n",
    "                <arp-table-entry-flags>\n",
    "                    <none/>\n",
    "                </arp-table-entry-flags>\n",
    "            </arp-table-entry>\n",
    "            <arp-table-entry>\n",
    "                <mac-address>00:0c:29:6a:f7:c8</mac-address>\n",
    "                <ip-address>20.20.0.5</ip-address>\n",
    "                <hostname>20.20.0.5</hostname>\n",
    "                <interface-name>ge-0/0/1.2</interface-name>\n",
    "                <arp-table-entry-flags>\n",
    "                    <none/>\n",
    "                </arp-table-entry-flags>\n",
    "            </arp-table-entry>\n",
    "            <arp-table-entry>\n",
    "                <mac-address>fe:00:00:00:00:04</mac-address>\n",
    "                <ip-address>128.0.0.16</ip-address>\n",
    "                <hostname>128.0.0.16</hostname>\n",
    "                <interface-name>em0.0</interface-name>\n",
    "                <arp-table-entry-flags>\n",
    "                    <none/>\n",
    "                </arp-table-entry-flags>\n",
    "            </arp-table-entry>\n",
    "            <arp-table-entry>\n",
    "                <mac-address>aa:bb:cc:dd:ee:ff</mac-address>\n",
    "                <ip-address>192.168.1.1</ip-address>\n",
    "                <hostname>192.168.1.1</hostname>\n",
    "                <interface-name>em1.32768</interface-name>\n",
    "                <arp-table-entry-flags>\n",
    "                    <none/>\n",
    "                </arp-table-entry-flags>\n",
    "            </arp-table-entry>\n",
    "            <arp-table-entry>\n",
    "                <mac-address>00:50:56:c0:00:08</mac-address>\n",
    "                <ip-address>192.168.12.1</ip-address>\n",
    "                <hostname>192.168.12.1</hostname>\n",
    "                <interface-name>fxp0.0</interface-name>\n",
    "                <arp-table-entry-flags>\n",
    "                    <none/>\n",
    "                </arp-table-entry-flags>\n",
    "            </arp-table-entry>\n",
    "            <arp-entry-count>5</arp-entry-count>\n",
    "        </arp-table-information>\n",
    "        <cli>\n",
    "            <banner></banner>\n",
    "        </cli>\n",
    "    </rpc-reply>"
   ]
  },
  {
   "cell_type": "markdown",
   "metadata": {},
   "source": [
    "In the *ArpTable* definition:\n",
    "\n",
    "* *rpc* defines the Junos XML RPC (get-arp-table-information) which is invoked to retrieve the table’s item data.\n",
    "* *item* is an XPath expression used to select each table item from the RPC response.\n",
    "* *key* is the XML element within each table item and the value becomes the key used to access each item within the native Python data structure.\n",
    "* *view* is the name of the default view used to map a table item into a native Python data structure.\n",
    "\n",
    "In the *ArpView* definition contains *fields*  is an associative array used to match XPath expressions to names:\n",
    "\n",
    "* *mac_address* the corresponding XPath expression is used to set the value of the mac_address key in the native Python view object.\n",
    "* *ip_address* is the name of the key in the Python view object that points to the XPath value.\n",
    "* *interface_name* is another key in the Python view object that will pull the value of the corresponding XPath value"
   ]
  },
  {
   "cell_type": "markdown",
   "metadata": {},
   "source": [
    "    seanw@Seans-iMac:/Library/Python/2.7/site-packages/jnpr/junos$ cat op/arp.yml\n",
    "    ---\n",
    "    ArpTable:\n",
    "      rpc: get-arp-table-information\n",
    "      item: arp-table-entry\n",
    "      key: mac-address\n",
    "      view: ArpView\n",
    "\n",
    "    ArpView:\n",
    "      fields:\n",
    "        mac_address: mac-address\n",
    "        ip_address: ip-address\n",
    "        interface_name: interface-name"
   ]
  },
  {
   "cell_type": "markdown",
   "metadata": {},
   "source": [
    "### Creating Operational Table and View\n",
    "Referencing the RPC for show bgp neighbor this overview will cover the definition of a BgpTable and BgpView as well as the structure of the corresponding XML output."
   ]
  },
  {
   "cell_type": "markdown",
   "metadata": {},
   "source": [
    "    seanw@vsrx1> show bgp neighbor | display xml rpc \n",
    "    <rpc-reply xmlns:junos=\"http://xml.juniper.net/junos/15.1X49/junos\">\n",
    "        <rpc>\n",
    "            <get-bgp-neighbor-information>\n",
    "            </get-bgp-neighbor-information>\n",
    "        </rpc>\n",
    "        <cli>\n",
    "            <banner></banner>\n",
    "        </cli>\n",
    "    </rpc-reply>"
   ]
  },
  {
   "cell_type": "markdown",
   "metadata": {},
   "source": [
    "    seanw@vsrx1> show bgp neighbor | display xml \n",
    "    <rpc-reply xmlns:junos=\"http://xml.juniper.net/junos/15.1X49/junos\">\n",
    "        <bgp-information xmlns=\"http://xml.juniper.net/junos/15.1X49/junos-routing\">\n",
    "            <bgp-peer junos:style=\"detail\">\n",
    "                <peer-address>20.20.0.1+179</peer-address>\n",
    "                <peer-as>2087403078</peer-as>\n",
    "                <local-address>20.20.0.2+55537</local-address>\n",
    "                <local-as>1234567890</local-as>\n",
    "                <peer-type>External</peer-type>\n",
    "                <peer-state>Established</peer-state>\n",
    "                <peer-flags>Sync</peer-flags>\n",
    "                <last-state>OpenConfirm</last-state>\n",
    "                <last-event>RecvKeepAlive</last-event>\n",
    "                <last-error>None</last-error>\n",
    "                <bgp-option-information xmlns=\"http://xml.juniper.net/junos/15.1X49/junos-routing\">\n",
    "                    <export-policy>\n",
    "                        to-isp2\n",
    "                    </export-policy>\n",
    "                    <import-policy>\n",
    "                        fix-next-hop\n",
    "                    </import-policy>\n",
    "                    <bgp-options>Preference LogUpDown AddressFamily PeerAS Multipath Refresh</bgp-options>\n",
    "                    <bgp-options2>AcceptRemoteNextHop</bgp-options2>\n",
    "                    <bgp-options-extended></bgp-options-extended>\n",
    "                    <address-families>inet-unicast inet6-unicast</address-families>\n",
    "                    <holdtime>90</holdtime>\n",
    "                    <preference>170</preference>\n",
    "                </bgp-option-information>\n",
    "                <flap-count>0</flap-count>\n",
    "                <peer-id>10.0.255.1</peer-id>\n",
    "                <local-id>172.27.255.1</local-id>\n",
    "                <active-holdtime>90</active-holdtime>\n",
    "                <keepalive-interval>30</keepalive-interval>\n",
    "                <group-index>0</group-index>\n",
    "                <peer-index>0</peer-index>\n",
    "                <bgp-bfd>\n",
    "                    <bfd-configuration-state>disabled</bfd-configuration-state>\n",
    "                    <bfd-operational-state>down</bfd-operational-state>\n",
    "                </bgp-bfd>\n",
    "                <local-interface-name>ge-0/0/0.1</local-interface-name>\n",
    "                <local-interface-index>526</local-interface-index>\n",
    "                <peer-restart-nlri-configured>inet-unicast inet6-unicast</peer-restart-nlri-configured>\n",
    "                <nlri-type-peer>inet-unicast inet6-unicast</nlri-type-peer>\n",
    "                <nlri-type-session>inet-unicast inet6-unicast</nlri-type-session>\n",
    "                <peer-refresh-capability>2</peer-refresh-capability>\n",
    "                <peer-stale-route-time-configured>300</peer-stale-route-time-configured>\n",
    "                <peer-no-restart/>\n",
    "                <peer-restart-flags-received>Notification</peer-restart-flags-received>\n",
    "                <peer-restart-nlri-negotiated>inet-unicast inet6-unicast</peer-restart-nlri-negotiated>\n",
    "                <peer-end-of-rib-received>inet-unicast inet6-unicast</peer-end-of-rib-received>\n",
    "                <peer-end-of-rib-sent>inet-unicast inet6-unicast</peer-end-of-rib-sent>\n",
    "                <peer-end-of-rib-scheduled></peer-end-of-rib-scheduled>\n",
    "                <peer-no-llgr-restarter/>\n",
    "                <peer-4byte-as-capability-advertised>2087403078</peer-4byte-as-capability-advertised>\n",
    "                <peer-addpath-not-supported/>\n",
    "                <bgp-rib junos:style=\"detail\">\n",
    "                    <name>inet.0</name>\n",
    "                    <rib-bit>10000</rib-bit>\n",
    "                    <bgp-rib-state>BGP restart is complete</bgp-rib-state>\n",
    "                    <send-state>in sync</send-state>\n",
    "                    <active-prefix-count>7</active-prefix-count>\n",
    "                    <received-prefix-count>7</received-prefix-count>\n",
    "                    <accepted-prefix-count>7</accepted-prefix-count>\n",
    "                    <suppressed-prefix-count>0</suppressed-prefix-count>\n",
    "                    <advertised-prefix-count>1</advertised-prefix-count>\n",
    "                </bgp-rib>\n",
    "                <bgp-rib junos:style=\"detail\">\n",
    "                    <name>inet6.0</name>\n",
    "                    <rib-bit>20000</rib-bit>\n",
    "                    <bgp-rib-state>BGP restart is complete</bgp-rib-state>\n",
    "                    <send-state>in sync</send-state>\n",
    "                    <active-prefix-count>31</active-prefix-count>\n",
    "                    <received-prefix-count>31</received-prefix-count>\n",
    "                    <accepted-prefix-count>31</accepted-prefix-count>\n",
    "                    <suppressed-prefix-count>0</suppressed-prefix-count>\n",
    "                    <advertised-prefix-count>1</advertised-prefix-count>\n",
    "                </bgp-rib>\n",
    "                <last-received>21</last-received>\n",
    "                <last-sent>8</last-sent>\n",
    "                <last-checked>71</last-checked>\n",
    "                <input-messages>1704</input-messages>\n",
    "                <input-updates>30</input-updates>\n",
    "                <input-refreshes>0</input-refreshes>\n",
    "                <input-octets>34102</input-octets>\n",
    "                <output-messages>1691</output-messages>\n",
    "                <output-updates>4</output-updates>\n",
    "                <output-refreshes>0</output-refreshes>\n",
    "                <output-octets>32446</output-octets>\n",
    "                <bgp-output-queue>\n",
    "                    <number>0</number>\n",
    "                    <count>0</count>\n",
    "                    <table-name>inet.0</table-name>\n",
    "                    <rib-adv-nlri>inet-unicast</rib-adv-nlri>\n",
    "                </bgp-output-queue>         \n",
    "                <bgp-output-queue>\n",
    "                    <number>1</number>\n",
    "                    <count>0</count>\n",
    "                    <table-name>inet6.0</table-name>\n",
    "                    <rib-adv-nlri>inet6-unicast</rib-adv-nlri>\n",
    "                </bgp-output-queue>\n",
    "            </bgp-peer>\n",
    "            [...snip...]\n",
    "        </bgp-information>\n",
    "        <cli>\n",
    "            <banner></banner>\n",
    "        </cli>\n",
    "    </rpc-reply>"
   ]
  },
  {
   "cell_type": "markdown",
   "metadata": {},
   "source": [
    "This *BgpTable* will focus on BGP peer specific information by extracting **`<bgp-peer>`** elements into table items. The table is populated by running the *get-bgp-summary-information* RPC.  Each element will have a key **`<peer-address>`**, which is a XPath expression relative to a table item **`<bgp-peer>`**. \n",
    "\n",
    "The sole purpose of a view definition is to map values to keys in a Python view object. The value for a given key comes from a corresponding XPath expression. The XPath expression is relative to each table item, and typically selects a single element from the table item. The view name becomes the name of a corresponding Python class. Below, *flap*, *state*, and *time* are the field names that contain XPath expressions that select a single corresponding matching child element from a table item:  **`<flap-count>`**,  **`<peer-state>`**, and **`<peer-as>`** (as well as others). Below also shows the use of a nested table view for the **`<bgp-rib>`** elements."
   ]
  },
  {
   "cell_type": "markdown",
   "metadata": {},
   "source": [
    "    seanw@Seans-iMac:/Library/Python/2.7/site-packages/jnpr/junos$ more op/bgp.yml \n",
    "    ---\n",
    "    BgpTable: \n",
    "        rpc: get-bgp-neighbor-information\n",
    "        item: bgp-peer\n",
    "        key: peer-address\n",
    "        view: BgpView\n",
    "\n",
    "    BgpView:\n",
    "        groups:\n",
    "            rib: bgp-rib\n",
    "        fields:\n",
    "            address: peer-address\n",
    "            state: peer-state\n",
    "            type: peer-type\n",
    "            peer_as: peer-as\n",
    "            local_as: local-as\n",
    "            local_interface: local-interface-name\n",
    "            flap_count: flap-count\n",
    "            rib: _RibTable\n",
    "\n",
    "    _RibTable:\n",
    "        item: bgp-rib\n",
    "        view: _RibView\n",
    "\n",
    "    _RibView:\n",
    "        fields:\n",
    "            table: name\n",
    "            active: active-prefix-count\n",
    "            received: received-prefix-count\n",
    "            accepted: accepted-prefix-count\n",
    "            suppressed: suppressed-prefix-count\n",
    "            advertised: advertised-prefix-count"
   ]
  },
  {
   "cell_type": "markdown",
   "metadata": {},
   "source": [
    "Create a *bgp.py* module in *jnpr.junos.op* package. It loads the *bgp.yml* and creates  BgpTable and BgpView classes. All the \"pythonifier\" modules in the *jnpr.junos.op* package have the same code - only the name changes."
   ]
  },
  {
   "cell_type": "markdown",
   "metadata": {},
   "source": [
    "    seanw@Seans-iMac:/Library/Python/2.7/site-packages/jnpr/junos$ cat op/bgp.py \n",
    "    '''\n",
    "    Pythonifier for Bgp Table/View\n",
    "    '''\n",
    "    from jnpr.junos.factory import loadyaml\n",
    "    from os.path import splitext\n",
    "    _YAML_ = splitext(__file__)[0] + '.yml'\n",
    "    globals().update(loadyaml(_YAML_))"
   ]
  },
  {
   "cell_type": "code",
   "execution_count": 21,
   "metadata": {
    "collapsed": false
   },
   "outputs": [
    {
     "data": {
      "text/plain": [
       "Device(vsrx1)"
      ]
     },
     "execution_count": 21,
     "metadata": {},
     "output_type": "execute_result"
    }
   ],
   "source": [
    "from jnpr.junos import Device\n",
    "from jnpr.junos.op.bgp import BgpTable\n",
    "from pprint import pprint\n",
    "\n",
    "vsrx1 = Device(host='vsrx1')\n",
    "vsrx1.open()"
   ]
  },
  {
   "cell_type": "code",
   "execution_count": 22,
   "metadata": {
    "collapsed": false
   },
   "outputs": [
    {
     "data": {
      "text/plain": [
       "BgpTable:vsrx1: 2 items"
      ]
     },
     "execution_count": 22,
     "metadata": {},
     "output_type": "execute_result"
    }
   ],
   "source": [
    "bgp_table = BgpTable(vsrx1)\n",
    "bgp_table.get()"
   ]
  },
  {
   "cell_type": "code",
   "execution_count": 23,
   "metadata": {
    "collapsed": false
   },
   "outputs": [
    {
     "name": "stdout",
     "output_type": "stream",
     "text": [
      "[('20.20.0.1+53343',\n",
      "  [('rib', _RibTable:vsrx1: 2 items),\n",
      "   ('state', 'Established'),\n",
      "   ('flap_count', '0'),\n",
      "   ('peer_as', '2087403078'),\n",
      "   ('address', '20.20.0.1+53343'),\n",
      "   ('type', 'External'),\n",
      "   ('local_interface', 'ge-0/0/0.1'),\n",
      "   ('local_as', '1234567890')]),\n",
      " ('20.20.0.5+60358',\n",
      "  [('rib', _RibTable:vsrx1: 2 items),\n",
      "   ('state', 'Established'),\n",
      "   ('flap_count', '0'),\n",
      "   ('peer_as', '2087403078'),\n",
      "   ('address', '20.20.0.5+60358'),\n",
      "   ('type', 'External'),\n",
      "   ('local_interface', 'ge-0/0/1.2'),\n",
      "   ('local_as', '1234567890')])]\n"
     ]
    }
   ],
   "source": [
    "pprint(bgp_table.items())"
   ]
  },
  {
   "cell_type": "code",
   "execution_count": 24,
   "metadata": {
    "collapsed": false
   },
   "outputs": [
    {
     "name": "stdout",
     "output_type": "stream",
     "text": [
      "External 20.20.0.1: is Established (flap count: 0)\n",
      "External 20.20.0.5: is Established (flap count: 0)\n"
     ]
    }
   ],
   "source": [
    "import re\n",
    "\n",
    "for i in bgp_table:\n",
    "    print \"{0} {1}: is {2} (flap count: {3})\".format(i.type, re.sub('\\+\\d+', '', i.address), i.state, i.flap_count)"
   ]
  },
  {
   "cell_type": "code",
   "execution_count": 25,
   "metadata": {
    "collapsed": false
   },
   "outputs": [
    {
     "name": "stdout",
     "output_type": "stream",
     "text": [
      "Peer address: 20.20.0.1\n",
      "Rib table: inet.0, Recieved routes: 7, Active routes: 7\n",
      "Rib table: inet6.0, Recieved routes: 31, Active routes: 31\n",
      "\n",
      "Peer address: 20.20.0.5\n",
      "Rib table: inet.0, Recieved routes: 7, Active routes: 7\n",
      "Rib table: inet6.0, Recieved routes: 31, Active routes: 31\n",
      "\n"
     ]
    }
   ],
   "source": [
    "for item in bgp_table:\n",
    "    print \"Peer address: {0}\".format(re.sub('\\+\\d+', '', item.address))\n",
    "    for rib in item.rib:\n",
    "        print \"Rib table: {0}, Recieved routes: {1}, Active routes: {2}\".format(rib.table, rib.received, rib.active)\n",
    "    print"
   ]
  },
  {
   "cell_type": "code",
   "execution_count": 26,
   "metadata": {
    "collapsed": true
   },
   "outputs": [],
   "source": [
    "vsrx1.close()"
   ]
  }
 ],
 "metadata": {
  "kernelspec": {
   "display_name": "Python 2",
   "language": "python",
   "name": "python2"
  },
  "language_info": {
   "codemirror_mode": {
    "name": "ipython",
    "version": 2
   },
   "file_extension": ".py",
   "mimetype": "text/x-python",
   "name": "python",
   "nbconvert_exporter": "python",
   "pygments_lexer": "ipython2",
   "version": "2.7.10"
  }
 },
 "nbformat": 4,
 "nbformat_minor": 2
}
