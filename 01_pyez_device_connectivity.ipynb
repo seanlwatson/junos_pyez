{
 "cells": [
  {
   "cell_type": "markdown",
   "metadata": {},
   "source": [
    "# Junos PyEZ\n",
    "PyEZ is a Python library that enables administration and automation of Junos devices. It is an open source project maintained and supported by Juniper Networks with contributions from the user community. The Junos PyEZ project is hosted on GitHub at https://github.com/Juniper/py-junos-eznc. PyEZ provides an abstraction layer built on top of the NETCONF protocol (requires vendor-agnostic *ncclient* library). Rather than returning RPC responses as XML, PyEZ utilizes the *lxml* library to directly return XML-specific Python data structures. \n",
    "\n",
    "pip stand for \"Pip Installs Packages\" or \"Pip Installs Python\". pip is a package management system used to find, install and manage Python packages and many packages can be found in the PyPI (Python Package Index) repository. There are currently 70000 packages: https://pypi.python.org/pypi. pip can be used to find packages in PyPI and to install them. To install Junos PyEZ execute the command (and can optionally upgrade with the -U argument):\n",
    "\n",
    "    pip install junos-eznc \n",
    "\n",
    "at a root shell prompt to install the latest stable release of Junos PyEZ. "
   ]
  },
  {
   "cell_type": "markdown",
   "metadata": {},
   "source": [
    "## NETCONF Device Connectivity\n",
    "PyEZ requires NETCONF to be enabled on the target device. The configuration required is:\n",
    "\n",
    "    seanw@vsrx1> edit \n",
    "    Entering configuration mode\n",
    "\n",
    "    [edit]\n",
    "    seanw@vsrx2# set system services netconf ssh port 830 \n",
    "    "
   ]
  },
  {
   "cell_type": "markdown",
   "metadata": {},
   "source": [
    "To enable netconf tracing and logs, configure the following in a device.\n",
    "\n",
    "    [edit]\n",
    "    seanw@vsrx1# load set terminal \n",
    "    [Type ^D at a new line to end input]\n",
    "    set system services netconf traceoptions file netconf.log \n",
    "    set system services netconf traceoptions file size 3m\n",
    "    set system services netconf traceoptions file files 20\n",
    "    set system services netconf traceoptions file world-readable \n",
    "    set system services netconf traceoptions flag all\n",
    "    load complete\n",
    "    \n",
    "    [edit]\n",
    "    seanw@vsrx1# commit and-quit \n",
    "    commit complete\n",
    "    Exiting configuration mode    "
   ]
  },
  {
   "cell_type": "markdown",
   "metadata": {},
   "source": [
    "NETCONF-over-SSH listens on TCP port 830 by default and operates over IPv4 and IPv6. Below shows verification of the NETCONF session.\n",
    "\n",
    "    seanw@Seans-iMac:~$ ssh -p 830 -s seanw@vsrx1 netconf\n",
    "    <!-- No zombies were killed during the creation of this user interface -->\n",
    "    <!-- user seanw, class j-super-user -->\n",
    "    <hello xmlns=\"urn:ietf:params:xml:ns:netconf:base:1.0\">\n",
    "      <capabilities>\n",
    "        <capability>urn:ietf:params:netconf:base:1.0</capability>\n",
    "        <capability>urn:ietf:params:netconf:capability:candidate:1.0</capability>\n",
    "        <capability>urn:ietf:params:netconf:capability:confirmed-commit:1.0</capability>\n",
    "        <capability>urn:ietf:params:netconf:capability:validate:1.0</capability>\n",
    "        <capability>urn:ietf:params:netconf:capability:url:1.0?scheme=http,ftp,file</capability>\n",
    "        <capability>urn:ietf:params:xml:ns:netconf:base:1.0</capability>\n",
    "        <capability>urn:ietf:params:xml:ns:netconf:capability:candidate:1.0</capability>\n",
    "        <capability>urn:ietf:params:xml:ns:netconf:capability:confirmed-commit:1.0</capability>\n",
    "        <capability>urn:ietf:params:xml:ns:netconf:capability:validate:1.0</capability>\n",
    "        <capability>urn:ietf:params:xml:ns:netconf:capability:url:1.0?protocol=http,ftp,file</capability>\n",
    "        <capability>http://xml.juniper.net/netconf/junos/1.0</capability>\n",
    "        <capability>http://xml.juniper.net/dmi/system/1.0</capability>\n",
    "      </capabilities>\n",
    "      <session-id>3596</session-id>\n",
    "    </hello>\n",
    "    ]]>]]>"
   ]
  },
  {
   "cell_type": "markdown",
   "metadata": {},
   "source": [
    "Input the following RPC for the CLI op command 'show version':\n",
    "\n",
    "    <rpc>\n",
    "    <get-software-information/>\n",
    "    </rpc>\n",
    "    \n",
    "The RPC reply is encoded in **`<rpc-reply>`** tags:\n",
    "\n",
    "    <rpc-reply xmlns=\"urn:ietf:params:xml:ns:netconf:base:1.0\" xmlns:junos=\"http://xml.juniper.net/junos/15.1X49/junos\">\n",
    "    <software-information>\n",
    "    <host-name>vsrx1</host-name>\n",
    "    <product-model>vsrx</product-model>\n",
    "    <product-name>vsrx</product-name>\n",
    "    <junos-version>15.1X49-D75.5</junos-version>\n",
    "    <package-information>\n",
    "    <name>junos</name>\n",
    "    <comment>JUNOS Software Release [15.1X49-D75.5]</comment>\n",
    "    </package-information>\n",
    "    </software-information>\n",
    "    </rpc-reply>\n",
    "    ]]>]]>"
   ]
  },
  {
   "cell_type": "markdown",
   "metadata": {},
   "source": [
    "Input the following RPC to close the NETCONF session:\n",
    "\n",
    "    <rpc>\n",
    "    <close-session/>\n",
    "    </rpc>\n",
    "\n",
    "The following reply should be recieved:\n",
    "\n",
    "    <rpc-reply xmlns=\"urn:ietf:params:xml:ns:netconf:base:1.0\" xmlns:junos=\"http://xml.juniper.net/junos/15.1X49/junos\">\n",
    "    <ok/>\n",
    "    </rpc-reply>\n",
    "    ]]>]]>\n",
    "    <!-- session end at 2017-02-04 04:20:10 UTC -->   "
   ]
  },
  {
   "cell_type": "markdown",
   "metadata": {},
   "source": [
    "    seanw@vsrx1> show log netconf.log \n",
    "    Feb  4 04:19:52 Started tracing session: 3982\n",
    "    Feb  4 04:19:54 [3982] Incoming:\n",
    "    Feb  4 04:19:54 [3982] Incoming:\n",
    "    Feb  4 04:20:02 [3982] Incoming: <rpc>\n",
    "    Feb  4 04:20:02 [3982] Incoming: <get-software-information/>   \n",
    "    Feb  4 04:20:03 [3982] Incoming: </rpc>    \n",
    "    Feb  4 04:20:02 [3982] Outgoing: <rpc-reply xmlns=\"urn:ietf:params:xml:ns:netconf:base:1.0\" xmlns:junos=\"http://xml.juniper.net/junos/15.1X49/junos\">\n",
    "    Feb  4 04:20:02 [3982] Outgoing: <software-information>\n",
    "    Feb  4 04:20:02 [3982] Outgoing: <host-name>vsrx1</host-name>\n",
    "    Feb  4 04:20:02 [3982] Outgoing: <product-model>vsrx</product-model>\n",
    "    Feb  4 04:20:02 [3982] Outgoing: <product-name>vsrx</product-name>\n",
    "    Feb  4 04:20:02 [3982] Outgoing: <junos-version>15.1X49-D75.5</junos-version>\n",
    "    Feb  4 04:20:02 [3982] Outgoing: <package-information>\n",
    "    Feb  4 04:20:02 [3982] Outgoing: <name>junos</name>\n",
    "    Feb  4 04:20:02 [3982] Outgoing: <comment>JUNOS Software Release [15.1X49-D75.5]</comment>\n",
    "    Feb  4 04:20:02 [3982] Outgoing: </package-information>\n",
    "    Feb  4 04:20:02 [3982] Outgoing: </software-information>\n",
    "    Feb  4 04:20:03 [3982] Outgoing: </rpc-reply>\n",
    "    Feb  4 04:20:03 [3982] Outgoing: ]]>]]>\n",
    "    Feb  4 04:20:10 [3982] Incoming: <rpc>\n",
    "    Feb  4 04:20:10 [3982] Incoming: <close-session/>    \n",
    "    Feb  4 04:20:10 [3982] Incoming: </rpc>    \n",
    "    Feb  4 04:20:10 [3982] Outgoing: <rpc-reply xmlns=\"urn:ietf:params:xml:ns:netconf:base:1.0\" xmlns:junos=\"http://xml.juniper.net/junos/15.1X49/junos\">\n",
    "    Feb  4 04:20:10 [3982] Outgoing: <ok/>\n",
    "    Feb  4 04:20:10 [3982] Outgoing: </rpc-reply>\n",
    "    Feb  4 04:20:10 [3982] Outgoing: ]]>]]>\n",
    "    Feb  4 04:20:10 [3982] Outgoing: <!-- session end at 2017-02-04 04:20:10 UTC -->"
   ]
  },
  {
   "cell_type": "markdown",
   "metadata": {},
   "source": [
    "### Device Instance\n",
    "The PyEZ library provides a *jnpr.junos.Device* class to represent a Junos device being accessed by the PyEZ library. The first step in using the library is to instantiate an instance of this class with the parameters specific to the Junos device. The first command imports the *jnpr.junos* Python package and copies the *Device* name into the local namespace, allowing you to simply reference **Device()**. The second line calls the *Device* class object with the **Device()** syntax creates a new instance object that is referenced with the variable named vsrx1. The class *Device* is defined in the module device (device.py) in the package *jnpr.junos*.\n",
    "\n",
    "Device authentiation can be done using password or SSH keys. For interactive scripts the user can be prompted for the parameters using the **input()** function and storing the results in a variable. Likewise the password can be prompted for and not shown on the screen using:\n",
    "\n",
    "    from getpass import getpass\n",
    "    password = getpass()"
   ]
  },
  {
   "cell_type": "code",
   "execution_count": 1,
   "metadata": {
    "collapsed": false
   },
   "outputs": [],
   "source": [
    "from jnpr.junos import Device\n",
    "vsrx1 = Device(host = 'vsrx1', user = 'demo', password = 'Juniper')"
   ]
  },
  {
   "cell_type": "markdown",
   "metadata": {},
   "source": [
    "### Connecting\n",
    "The NETCONF connection is only made using the information stored in the device instance attributes when the **open()** method is invoked. Likewise you can check if a NETCONF session using *connected*."
   ]
  },
  {
   "cell_type": "code",
   "execution_count": 2,
   "metadata": {
    "collapsed": false
   },
   "outputs": [
    {
     "data": {
      "text/plain": [
       "Device(vsrx1)"
      ]
     },
     "execution_count": 2,
     "metadata": {},
     "output_type": "execute_result"
    }
   ],
   "source": [
    "vsrx1.open()"
   ]
  },
  {
   "cell_type": "code",
   "execution_count": 3,
   "metadata": {
    "collapsed": false
   },
   "outputs": [
    {
     "data": {
      "text/plain": [
       "True"
      ]
     },
     "execution_count": 3,
     "metadata": {},
     "output_type": "execute_result"
    }
   ],
   "source": [
    "vsrx1.connected"
   ]
  },
  {
   "cell_type": "markdown",
   "metadata": {},
   "source": [
    "The **close()** method cleanly shuts down the NETCONF session that was initiated by the successful execution of the **open()** method. Calling the **close()** method does not destroy the device instance; it just closes its NETCONF session. Calling an RPC after an instance has been closed causes a *jnpr.junos.exception.ConnectClosedError* exception to be raised. A NETCONF connection will (normally) be closed after completing the ‘idle’ time of the session defined in configuration. However, since SSH sessions are finite resources (and can be limited by configuration), it is important to close the NETCONF session."
   ]
  },
  {
   "cell_type": "code",
   "execution_count": 4,
   "metadata": {
    "collapsed": true
   },
   "outputs": [],
   "source": [
    "vsrx1.close()"
   ]
  },
  {
   "cell_type": "code",
   "execution_count": 5,
   "metadata": {
    "collapsed": false
   },
   "outputs": [
    {
     "data": {
      "text/plain": [
       "False"
      ]
     },
     "execution_count": 5,
     "metadata": {},
     "output_type": "execute_result"
    }
   ],
   "source": [
    "vsrx1.connected"
   ]
  },
  {
   "cell_type": "markdown",
   "metadata": {},
   "source": [
    "By wrapping the **open()** method in a try/except block then exceptions can be handled gracefully and requires the *jnpr.junos.exception* module to be imported."
   ]
  },
  {
   "cell_type": "code",
   "execution_count": 6,
   "metadata": {
    "collapsed": false
   },
   "outputs": [
    {
     "name": "stdout",
     "output_type": "stream",
     "text": [
      "Error: ConnectAuthError(vsrx1)\n"
     ]
    }
   ],
   "source": [
    "import jnpr.junos.exception\n",
    "\n",
    "vsrx1 = Device(host='vsrx1', user='demo', password='bad_pass')\n",
    "\n",
    "try:\n",
    "    vsrx1.open()\n",
    "except jnpr.junos.exception.ConnectError as err:\n",
    "    print \"Error: \" + repr(err)"
   ]
  },
  {
   "cell_type": "markdown",
   "metadata": {},
   "source": [
    "### Fact Gathering\n",
    "By default, the PyEZ library gathers basic information about the device during the **open()** call and stores this information in a Python dictionary. This dictionary can be easily accessed with the *facts* attribute."
   ]
  },
  {
   "cell_type": "code",
   "execution_count": 7,
   "metadata": {
    "collapsed": false
   },
   "outputs": [
    {
     "data": {
      "text/plain": [
       "Device(vsrx1)"
      ]
     },
     "execution_count": 7,
     "metadata": {},
     "output_type": "execute_result"
    }
   ],
   "source": [
    "from pprint import pprint\n",
    "vsrx1 = Device(host='vsrx1', user='demo', password='Juniper')\n",
    "vsrx1.open()"
   ]
  },
  {
   "cell_type": "code",
   "execution_count": 8,
   "metadata": {
    "collapsed": false
   },
   "outputs": [
    {
     "name": "stdout",
     "output_type": "stream",
     "text": [
      "{'2RE': False,\n",
      " 'HOME': '/var/home/demo',\n",
      " 'RE0': {'last_reboot_reason': '0x4000:VJUNOS reboot ',\n",
      "         'model': 'VSRX-S',\n",
      "         'status': 'OK',\n",
      "         'up_time': '7 hours, 45 minutes, 2 seconds'},\n",
      " 'domain': None,\n",
      " 'fqdn': 'vsrx1',\n",
      " 'hostname': 'vsrx1',\n",
      " 'ifd_style': 'CLASSIC',\n",
      " 'model': 'VSRX',\n",
      " 'personality': 'UNKNOWN',\n",
      " 'serialnumber': 'BABF6658EFA5',\n",
      " 'srx_cluster': False,\n",
      " 'switch_style': 'NONE',\n",
      " 'vc_capable': False,\n",
      " 'version': '15.1X49-D75.5',\n",
      " 'version_info': junos.version_info(major=(15, 1), type=X, minor=(49, 'D', 75), build=5)}\n"
     ]
    }
   ],
   "source": [
    "pprint(vsrx1.facts)"
   ]
  },
  {
   "cell_type": "code",
   "execution_count": 9,
   "metadata": {
    "collapsed": false
   },
   "outputs": [
    {
     "data": {
      "text/plain": [
       "'VSRX'"
      ]
     },
     "execution_count": 9,
     "metadata": {},
     "output_type": "execute_result"
    }
   ],
   "source": [
    "vsrx1.facts['model']"
   ]
  },
  {
   "cell_type": "code",
   "execution_count": 10,
   "metadata": {
    "collapsed": false
   },
   "outputs": [
    {
     "data": {
      "text/plain": [
       "'7 hours, 45 minutes, 2 seconds'"
      ]
     },
     "execution_count": 10,
     "metadata": {},
     "output_type": "execute_result"
    }
   ],
   "source": [
    "vsrx1.facts['RE0']['up_time']"
   ]
  },
  {
   "cell_type": "code",
   "execution_count": 11,
   "metadata": {
    "collapsed": false
   },
   "outputs": [
    {
     "data": {
      "text/plain": [
       "'BABF6658EFA5'"
      ]
     },
     "execution_count": 11,
     "metadata": {},
     "output_type": "execute_result"
    }
   ],
   "source": [
    "vsrx1.facts['serialnumber']"
   ]
  },
  {
   "cell_type": "code",
   "execution_count": 12,
   "metadata": {
    "collapsed": false
   },
   "outputs": [
    {
     "data": {
      "text/plain": [
       "'15.1X49-D75.5'"
      ]
     },
     "execution_count": 12,
     "metadata": {},
     "output_type": "execute_result"
    }
   ],
   "source": [
    "vsrx1.facts['version']"
   ]
  },
  {
   "cell_type": "markdown",
   "metadata": {},
   "source": [
    "Some facts can be refreshed using the **facts_refresh()** method before accessing the fact again (such as uptime)."
   ]
  },
  {
   "cell_type": "code",
   "execution_count": 13,
   "metadata": {
    "collapsed": true
   },
   "outputs": [],
   "source": [
    "vsrx1.facts_refresh()"
   ]
  },
  {
   "cell_type": "code",
   "execution_count": 14,
   "metadata": {
    "collapsed": false
   },
   "outputs": [
    {
     "data": {
      "text/plain": [
       "'7 hours, 49 minutes, 14 seconds'"
      ]
     },
     "execution_count": 14,
     "metadata": {},
     "output_type": "execute_result"
    }
   ],
   "source": [
    "vsrx1.facts['RE0']['up_time']"
   ]
  },
  {
   "cell_type": "code",
   "execution_count": 15,
   "metadata": {
    "collapsed": false
   },
   "outputs": [
    {
     "data": {
      "text/plain": [
       "<bound method Device.close of Device(vsrx1)>"
      ]
     },
     "execution_count": 15,
     "metadata": {},
     "output_type": "execute_result"
    }
   ],
   "source": [
    "vsrx1.close"
   ]
  },
  {
   "cell_type": "markdown",
   "metadata": {},
   "source": [
    "### Device Probe\n",
    "To check if NETCONF can be reached the device can be probed. This can be useful in re-connecting after a reboot. The default timeout is 10 seconds."
   ]
  },
  {
   "cell_type": "code",
   "execution_count": 16,
   "metadata": {
    "collapsed": false
   },
   "outputs": [
    {
     "data": {
      "text/plain": [
       "True"
      ]
     },
     "execution_count": 16,
     "metadata": {},
     "output_type": "execute_result"
    }
   ],
   "source": [
    "vsrx1.probe(timeout=30)"
   ]
  }
 ],
 "metadata": {
  "kernelspec": {
   "display_name": "Python 2",
   "language": "python",
   "name": "python2"
  },
  "language_info": {
   "codemirror_mode": {
    "name": "ipython",
    "version": 2
   },
   "file_extension": ".py",
   "mimetype": "text/x-python",
   "name": "python",
   "nbconvert_exporter": "python",
   "pygments_lexer": "ipython2",
   "version": "2.7.10"
  }
 },
 "nbformat": 4,
 "nbformat_minor": 2
}
